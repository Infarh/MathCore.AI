{
 "cells": [
  {
   "cell_type": "markdown",
   "metadata": {},
   "source": [
    "# Задача обучение девочи\n",
    "\n",
    "Нейронная сеть, решающая задачу оценки парня по трём критериям: наличие квартиры; привлекательность; любовь тяжёлого рока (негативный критерий).\n",
    "\n",
    "Нейронная сеть должна выдавать результат в виде численных значений в интервале [0, 1], где 0 - отризательное отношение к парню; 1 - позитивное отношение."
   ]
  },
  {
   "cell_type": "code",
   "execution_count": 1,
   "metadata": {},
   "outputs": [],
   "source": [
    "import numpy as np\n",
    "import matplotlib.pyplot as plt\n",
    "from typing import Union"
   ]
  },
  {
   "cell_type": "markdown",
   "metadata": {},
   "source": [
    "## Функция генерации топологии сети"
   ]
  },
  {
   "cell_type": "code",
   "execution_count": 2,
   "metadata": {},
   "outputs": [],
   "source": [
    "def Sigmoid(u: Union[float, list[float]]): return 1 / (1 + np.exp(-u))\n",
    "def dSigmoid(y: Union[float, list[float]]): return y * (1 - y)"
   ]
  },
  {
   "cell_type": "code",
   "execution_count": 3,
   "metadata": {},
   "outputs": [
    {
     "data": {
      "text/plain": [
       "[(array([[ 0.49671415, -0.1382643 ,  0.64768854],\n",
       "         [ 1.52302986, -0.23415337, -0.23413696]]),\n",
       "  array([1.57921282, 0.76743473])),\n",
       " (array([[-0.46947439,  0.54256004]]), array([-0.46341769]))]"
      ]
     },
     "execution_count": 3,
     "metadata": {},
     "output_type": "execute_result"
    }
   ],
   "source": [
    "def Topology(Inputs: int, layers: list[int]):\n",
    "    '''\n",
    "    Функция генерации топологии нейронной сети\n",
    "\n",
    "    Parameters\n",
    "    ----------\n",
    "    Inputs: int: \n",
    "        число входов сети\n",
    "    layers: list[int]: \n",
    "        список размеров слоёв (число нейронов в каждом)\n",
    "\n",
    "    Returns\n",
    "    -------\n",
    "        Функция возвращает список структуры каждого слоя, содержащий кортежи: (w, o). \n",
    "        Где w - матрица передачи слоя, o - вектор смещения\n",
    "    '''\n",
    "    layersCount = len(layers)\n",
    "    \n",
    "    M = [Inputs] + layers\n",
    "\n",
    "    np.random.seed(42)\n",
    "\n",
    "    T = []\n",
    "    for i in range(0, layersCount):\n",
    "            w = np.random.normal(0, 1, size=(M[i+1], M[i]))\n",
    "            o = np.random.normal(0, 1, size=(M[i+1]))\n",
    "            T.append((w, o))\n",
    "\n",
    "    return T\n",
    "\n",
    "T = Topology(3, [2, 1])\n",
    "T"
   ]
  },
  {
   "cell_type": "markdown",
   "metadata": {},
   "source": [
    "## Алгоритм прямого распространения"
   ]
  },
  {
   "cell_type": "code",
   "execution_count": 4,
   "metadata": {},
   "outputs": [
    {
     "data": {
      "text/plain": [
       "array([0.41608565])"
      ]
     },
     "execution_count": 4,
     "metadata": {},
     "output_type": "execute_result"
    }
   ],
   "source": [
    "def Forward(T, X: list[float]):\n",
    "    x = np.array(X)\n",
    "    for w, o in T:\n",
    "        u = w @ x + o\n",
    "        y = Sigmoid(u)\n",
    "        x = y\n",
    "    return y\n",
    "\n",
    "Y2 = Forward(T, [1,1,-1])\n",
    "Y2"
   ]
  },
  {
   "cell_type": "markdown",
   "metadata": {},
   "source": [
    "## Алгоритм обратного распространения"
   ]
  },
  {
   "cell_type": "code",
   "execution_count": 28,
   "metadata": {},
   "outputs": [
    {
     "data": {
      "text/plain": [
       "[(array([[-0.89254, -0.16455, -0.5034 ],\n",
       "         [-1.78889, -1.87561, -1.20992]]),\n",
       "  array([1.34141, 0.06761])),\n",
       " (array([[ 0.93853, -0.10164]]), array([0.56282]))]"
      ]
     },
     "execution_count": 28,
     "metadata": {},
     "output_type": "execute_result"
    }
   ],
   "source": [
    "W1 = np.array([\n",
    "    [-0.89254, -0.16455, -0.5034],\n",
    "    [-1.78889, -1.87561, -1.20992]\n",
    "])\n",
    "\n",
    "O1 = np.array([\n",
    "    1.34141, \n",
    "    0.06761\n",
    "])\n",
    "\n",
    "W2 = np.array([\n",
    "    [0.93853, -0.10164]\n",
    "])\n",
    "\n",
    "O2 = np.array([\n",
    "    0.56282\n",
    "])\n",
    "\n",
    "T0 = [\n",
    "    (W1, O1),\n",
    "    (W2, O2)\n",
    "]"
   ]
  },
  {
   "cell_type": "code",
   "execution_count": 22,
   "metadata": {},
   "outputs": [
    {
     "name": "stdout",
     "output_type": "stream",
     "text": [
      "1:  e=[0.58391435]\n",
      " :  d=[0.14186689]\n",
      " : XX=[0.78414281 0.90808286]\n",
      " : dw=[0.1112439  0.12882689]\n",
      "\n",
      "0:  e=[[-0.06660287]\n",
      " [ 0.0769713 ]]\n",
      " :  d=[[-0.01127339 -0.00555923]\n",
      " [ 0.01302838  0.00642467]]\n",
      " : XX=[ 1  1 -1]\n"
     ]
    },
    {
     "ename": "ValueError",
     "evalue": "operands could not be broadcast together with shapes (2,2) (3,) ",
     "output_type": "error",
     "traceback": [
      "\u001b[0;31m---------------------------------------------------------------------------\u001b[0m",
      "\u001b[0;31mValueError\u001b[0m                                Traceback (most recent call last)",
      "Cell \u001b[0;32mIn[22], line 36\u001b[0m\n\u001b[1;32m     32\u001b[0m         i \u001b[38;5;241m+\u001b[39m\u001b[38;5;241m=\u001b[39m \u001b[38;5;241m1\u001b[39m\n\u001b[1;32m     34\u001b[0m     \u001b[38;5;28;01mreturn\u001b[39;00m \u001b[38;5;241m0\u001b[39m\n\u001b[0;32m---> 36\u001b[0m T2 \u001b[38;5;241m=\u001b[39m \u001b[43mBackward\u001b[49m\u001b[43m(\u001b[49m\u001b[43mT\u001b[49m\u001b[43m,\u001b[49m\u001b[43m \u001b[49m\u001b[43m[\u001b[49m\u001b[38;5;241;43m1\u001b[39;49m\u001b[43m,\u001b[49m\u001b[43m \u001b[49m\u001b[38;5;241;43m1\u001b[39;49m\u001b[43m,\u001b[49m\u001b[43m \u001b[49m\u001b[38;5;241;43m-\u001b[39;49m\u001b[38;5;241;43m1\u001b[39;49m\u001b[43m]\u001b[49m\u001b[43m,\u001b[49m\u001b[43m \u001b[49m\u001b[43m[\u001b[49m\u001b[38;5;241;43m1\u001b[39;49m\u001b[43m]\u001b[49m\u001b[43m,\u001b[49m\u001b[43m \u001b[49m\u001b[38;5;241;43m0.5\u001b[39;49m\u001b[43m)\u001b[49m\n\u001b[1;32m     37\u001b[0m T2\n",
      "Cell \u001b[0;32mIn[22], line 28\u001b[0m, in \u001b[0;36mBackward\u001b[0;34m(T, X, Y0, rho)\u001b[0m\n\u001b[1;32m     25\u001b[0m \u001b[38;5;28mprint\u001b[39m(\u001b[38;5;124mf\u001b[39m\u001b[38;5;124m\"\u001b[39m\u001b[38;5;124m :  d=\u001b[39m\u001b[38;5;132;01m{\u001b[39;00md\u001b[38;5;132;01m}\u001b[39;00m\u001b[38;5;124m\"\u001b[39m)\n\u001b[1;32m     26\u001b[0m \u001b[38;5;28mprint\u001b[39m(\u001b[38;5;124mf\u001b[39m\u001b[38;5;124m\"\u001b[39m\u001b[38;5;124m : XX=\u001b[39m\u001b[38;5;132;01m{\u001b[39;00mXX[i]\u001b[38;5;132;01m}\u001b[39;00m\u001b[38;5;124m\"\u001b[39m)\n\u001b[0;32m---> 28\u001b[0m dw \u001b[38;5;241m=\u001b[39m \u001b[43md\u001b[49m\u001b[43m \u001b[49m\u001b[38;5;241;43m*\u001b[39;49m\u001b[43m \u001b[49m\u001b[43mXX\u001b[49m\u001b[43m[\u001b[49m\u001b[43mi\u001b[49m\u001b[43m]\u001b[49m\u001b[38;5;241;43m.\u001b[39;49m\u001b[43mT\u001b[49m\n\u001b[1;32m     29\u001b[0m \u001b[38;5;28mprint\u001b[39m(\u001b[38;5;124mf\u001b[39m\u001b[38;5;124m\"\u001b[39m\u001b[38;5;124m : dw=\u001b[39m\u001b[38;5;132;01m{\u001b[39;00mdw\u001b[38;5;132;01m}\u001b[39;00m\u001b[38;5;124m\"\u001b[39m)\n\u001b[1;32m     30\u001b[0m \u001b[38;5;28mprint\u001b[39m()\n",
      "\u001b[0;31mValueError\u001b[0m: operands could not be broadcast together with shapes (2,2) (3,) "
     ]
    }
   ],
   "source": [
    "def Test(x):\n",
    "    return x * (1 - x)\n",
    "\n",
    "def Backward(T, X: list[float], Y0: list[float], rho: float):\n",
    "    layersCount = len(T)\n",
    "    x = np.array(X)\n",
    "    XX = [x]\n",
    "\n",
    "    Y = []\n",
    "    for w, o in T:\n",
    "        u = w @ x + o\n",
    "        y = Sigmoid(u)\n",
    "        Y.append(y)\n",
    "        x = y\n",
    "\n",
    "    e = Y0 - Y[-1]\n",
    "    XX += Y\n",
    "    dsgm = np.vectorize(Test)\n",
    "    T2 = T.copy()\n",
    "    i = 0\n",
    "    for i in range(layersCount-1, -1, -1):\n",
    "        w, o = T[i]\n",
    "        d = e * dsgm(Y[i])\n",
    "        print(f\"{i}:  e={e}\")\n",
    "        print(f\" :  d={d}\")\n",
    "        print(f\" : XX={XX[i]}\")\n",
    "\n",
    "        dw = d * XX[i].T\n",
    "        print(f\" : dw={dw}\")\n",
    "        print()\n",
    "        e = w.T * d\n",
    "        i += 1\n",
    "\n",
    "    return 0\n",
    "\n",
    "T2 = Backward(T, [1, 1, -1], [1], 0.5)\n",
    "T2"
   ]
  }
 ],
 "metadata": {
  "kernelspec": {
   "display_name": "Python 3",
   "language": "python",
   "name": "python3"
  },
  "language_info": {
   "codemirror_mode": {
    "name": "ipython",
    "version": 3
   },
   "file_extension": ".py",
   "mimetype": "text/x-python",
   "name": "python",
   "nbconvert_exporter": "python",
   "pygments_lexer": "ipython3",
   "version": "3.12.1"
  }
 },
 "nbformat": 4,
 "nbformat_minor": 2
}
