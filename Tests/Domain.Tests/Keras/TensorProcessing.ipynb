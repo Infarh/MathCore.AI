{
 "cells": [
  {
   "cell_type": "code",
   "execution_count": 2,
   "metadata": {},
   "outputs": [],
   "source": [
    "%%capture\n",
    "%pip install tensorflow"
   ]
  },
  {
   "cell_type": "code",
   "execution_count": 3,
   "metadata": {},
   "outputs": [
    {
     "name": "stderr",
     "output_type": "stream",
     "text": [
      "2024-11-17 21:07:08.885740: I tensorflow/core/util/port.cc:153] oneDNN custom operations are on. You may see slightly different numerical results due to floating-point round-off errors from different computation orders. To turn them off, set the environment variable `TF_ENABLE_ONEDNN_OPTS=0`.\n",
      "2024-11-17 21:07:08.887182: I external/local_xla/xla/tsl/cuda/cudart_stub.cc:32] Could not find cuda drivers on your machine, GPU will not be used.\n",
      "2024-11-17 21:07:08.890530: I external/local_xla/xla/tsl/cuda/cudart_stub.cc:32] Could not find cuda drivers on your machine, GPU will not be used.\n",
      "2024-11-17 21:07:08.899261: E external/local_xla/xla/stream_executor/cuda/cuda_fft.cc:477] Unable to register cuFFT factory: Attempting to register factory for plugin cuFFT when one has already been registered\n",
      "WARNING: All log messages before absl::InitializeLog() is called are written to STDERR\n",
      "E0000 00:00:1731877628.913747   13944 cuda_dnn.cc:8310] Unable to register cuDNN factory: Attempting to register factory for plugin cuDNN when one has already been registered\n",
      "E0000 00:00:1731877628.918051   13944 cuda_blas.cc:1418] Unable to register cuBLAS factory: Attempting to register factory for plugin cuBLAS when one has already been registered\n",
      "2024-11-17 21:07:08.940614: I tensorflow/core/platform/cpu_feature_guard.cc:210] This TensorFlow binary is optimized to use available CPU instructions in performance-critical operations.\n",
      "To enable the following instructions: AVX2 AVX512F AVX512_VNNI FMA, in other operations, rebuild TensorFlow with the appropriate compiler flags.\n"
     ]
    }
   ],
   "source": [
    "import tensorflow as tf\n",
    "import numpy as np\n",
    "from PIL import Image\n",
    "import matplotlib.pyplot as plt"
   ]
  },
  {
   "cell_type": "code",
   "execution_count": 4,
   "metadata": {},
   "outputs": [],
   "source": [
    "input_file = \"img.png\""
   ]
  },
  {
   "cell_type": "code",
   "execution_count": 5,
   "metadata": {},
   "outputs": [],
   "source": [
    "# 1. Загрузка изображения и преобразование в тензор\n",
    "def load_image(file_path):\n",
    "    image = Image.open(file_path).convert(\"RGB\")  # Открытие и преобразование в RGB\n",
    "    image_tensor = tf.convert_to_tensor(np.array(image), dtype=tf.float32)  # Преобразование в тензор\n",
    "    image_tensor = tf.expand_dims(image_tensor, axis=0)  # Добавление размерности батча\n",
    "    return image_tensor, image.size"
   ]
  },
  {
   "cell_type": "code",
   "execution_count": 6,
   "metadata": {},
   "outputs": [
    {
     "name": "stderr",
     "output_type": "stream",
     "text": [
      "2024-11-17 21:07:11.938598: E external/local_xla/xla/stream_executor/cuda/cuda_driver.cc:152] failed call to cuInit: INTERNAL: CUDA error: Failed call to cuInit: UNKNOWN ERROR (303)\n"
     ]
    },
    {
     "data": {
      "text/plain": [
       "<tf.Tensor: shape=(1, 1323, 2134, 3), dtype=float32, numpy=\n",
       "array([[[[62., 64., 73.],\n",
       "         [59., 62., 71.],\n",
       "         [35., 38., 48.],\n",
       "         ...,\n",
       "         [35., 38., 48.],\n",
       "         [35., 38., 48.],\n",
       "         [35., 38., 48.]],\n",
       "\n",
       "        [[62., 64., 73.],\n",
       "         [54., 57., 66.],\n",
       "         [35., 38., 48.],\n",
       "         ...,\n",
       "         [35., 38., 48.],\n",
       "         [35., 38., 48.],\n",
       "         [35., 38., 48.]],\n",
       "\n",
       "        [[62., 64., 73.],\n",
       "         [50., 52., 62.],\n",
       "         [35., 38., 48.],\n",
       "         ...,\n",
       "         [35., 38., 48.],\n",
       "         [35., 38., 48.],\n",
       "         [35., 38., 48.]],\n",
       "\n",
       "        ...,\n",
       "\n",
       "        [[13., 17., 22.],\n",
       "         [13., 17., 22.],\n",
       "         [13., 17., 22.],\n",
       "         ...,\n",
       "         [13., 17., 22.],\n",
       "         [13., 17., 22.],\n",
       "         [13., 17., 22.]],\n",
       "\n",
       "        [[13., 17., 22.],\n",
       "         [13., 17., 22.],\n",
       "         [13., 17., 22.],\n",
       "         ...,\n",
       "         [13., 17., 22.],\n",
       "         [13., 17., 22.],\n",
       "         [13., 17., 22.]],\n",
       "\n",
       "        [[13., 17., 22.],\n",
       "         [13., 17., 22.],\n",
       "         [13., 17., 22.],\n",
       "         ...,\n",
       "         [13., 17., 22.],\n",
       "         [13., 17., 22.],\n",
       "         [13., 17., 22.]]]], dtype=float32)>"
      ]
     },
     "execution_count": 6,
     "metadata": {},
     "output_type": "execute_result"
    }
   ],
   "source": [
    "image_tensor, size = load_image(input_file)\n",
    "\n",
    "image_tensor"
   ]
  },
  {
   "cell_type": "markdown",
   "metadata": {},
   "source": [
    "```"
   ]
  },
  {
   "cell_type": "markdown",
   "metadata": {},
   "source": [
    "`shape=(1, 1323, 2134, 3)` — форма (размеры) тензора:\n",
    "\n",
    "1 — это размер батча. В данном случае у нас только одно изображение, поэтому размер батча равен 1.\n",
    "\n",
    "    1323 — высота изображения в пикселях.\n",
    "\n",
    "    2134 — ширина изображения в пикселях.\n",
    "\n",
    "3 — количество каналов изображения (Red, Green, Blue, то есть RGB).\n",
    "\n",
    "`dtype=float32` — тип данных элементов тензора. Здесь элементы тензора представлены числами с плавающей точкой (32-битная точность). Такие типы данных удобны для математических операций, включая свёртки."
   ]
  },
  {
   "cell_type": "code",
   "execution_count": 7,
   "metadata": {},
   "outputs": [
    {
     "data": {
      "text/plain": [
       "<tf.Tensor: shape=(3, 3, 1, 1), dtype=float32, numpy=\n",
       "array([[[[-1.]],\n",
       "\n",
       "        [[ 0.]],\n",
       "\n",
       "        [[ 1.]]],\n",
       "\n",
       "\n",
       "       [[[-1.]],\n",
       "\n",
       "        [[ 0.]],\n",
       "\n",
       "        [[ 1.]]],\n",
       "\n",
       "\n",
       "       [[[-1.]],\n",
       "\n",
       "        [[ 0.]],\n",
       "\n",
       "        [[ 1.]]]], dtype=float32)>"
      ]
     },
     "execution_count": 7,
     "metadata": {},
     "output_type": "execute_result"
    }
   ],
   "source": [
    "# 2. Определение ядра свёртки\n",
    "kernel = tf.constant([[-1, 0, 1], \n",
    "                      [-1, 0, 1], \n",
    "                      [-1, 0, 1]], \n",
    "                      dtype=tf.float32, \n",
    "                      shape=(3, 3, 1, 1))\n",
    "kernel"
   ]
  },
  {
   "cell_type": "markdown",
   "metadata": {},
   "source": [
    "Форма тензора ядра свёртки shape=(3, 3, 1, 1) описывает его размеры по четырём измерениям. Давайте разберём каждый из них:\n",
    "\n",
    "3 (высота) — количество строк в ядре свёртки. Это соответствует высоте фильтра, который будет применяться к изображению. Здесь ядро имеет размер 3 пикселя по вертикали.\n",
    "\n",
    "3 (ширина) — количество столбцов в ядре свёртки. Это ширина фильтра, которая тоже составляет 3 пикселя.\n",
    "\n",
    "1 (глубина входного изображения) — число каналов входных данных, к которым применяется фильтр. Поскольку указано 1, это значит, что ядро рассчитано на обработку только одного канала (например, для обработки одного цветового компонента изображения — R, G или B). Если входное изображение многоканальное (RGB), для каждого канала свёртка выполняется отдельно.\n",
    "\n",
    "1 (число фильтров) — количество различных фильтров, которые ядро содержит. В данном случае у нас один фильтр. Если бы это значение было больше, выход после свёртки содержал бы результаты для всех фильтров (многоканальный выход).\n",
    "\n",
    "Итог:\n",
    "Тензор ядра свёртки с формой (3, 3, 1, 1) представляет фильтр размером \n",
    "3\n",
    "×\n",
    "3\n",
    "3×3, который:\n",
    "\n",
    "Обрабатывает один канал входных данных.\n",
    "Возвращает один канал в результате (один выходной фильтр).\n",
    "Такой формат используется в TensorFlow для унификации обработки свёрточных операций, позволяя легко масштабировать их для многоканальных данных или создания нескольких фильтров."
   ]
  },
  {
   "cell_type": "code",
   "execution_count": 8,
   "metadata": {},
   "outputs": [],
   "source": [
    "# 3. Применение свёртки\n",
    "def apply_convolution(image_tensor, kernel):\n",
    "    # Разделение по каналам для независимой обработки\n",
    "    channels = tf.split(image_tensor, num_or_size_splits=3, axis=-1)\n",
    "    convolved_channels = []\n",
    "    for channel in channels:\n",
    "        convolved = tf.nn.conv2d(channel, filters=kernel, strides=[1, 1, 1, 1], padding='SAME')\n",
    "        convolved_channels.append(convolved)\n",
    "    # Объединение каналов обратно\n",
    "    convolved_image = tf.concat(convolved_channels, axis=-1)\n",
    "    return convolved_image[0]  # Убираем размерность батча"
   ]
  },
  {
   "cell_type": "code",
   "execution_count": 9,
   "metadata": {},
   "outputs": [
    {
     "data": {
      "text/plain": [
       "<tf.Tensor: shape=(1323, 2134, 3), dtype=float32, numpy=\n",
       "array([[[ 113.,  119.,  137.],\n",
       "        [ -54.,  -52.,  -50.],\n",
       "        [ -43.,  -43.,  -41.],\n",
       "        ...,\n",
       "        [   0.,    0.,    0.],\n",
       "        [   0.,    0.,    0.],\n",
       "        [ -70.,  -76.,  -96.]],\n",
       "\n",
       "       [[ 163.,  171.,  199.],\n",
       "        [ -81.,  -78.,  -75.],\n",
       "        [ -58.,  -57.,  -55.],\n",
       "        ...,\n",
       "        [   0.,    0.,    0.],\n",
       "        [   0.,    0.,    0.],\n",
       "        [-105., -114., -144.]],\n",
       "\n",
       "       [[ 148.,  156.,  185.],\n",
       "        [ -81.,  -78.,  -75.],\n",
       "        [ -43.,  -42.,  -41.],\n",
       "        ...,\n",
       "        [   0.,    0.,    0.],\n",
       "        [   0.,    0.,    0.],\n",
       "        [-105., -114., -144.]],\n",
       "\n",
       "       ...,\n",
       "\n",
       "       [[  39.,   51.,   66.],\n",
       "        [   0.,    0.,    0.],\n",
       "        [   0.,    0.,    0.],\n",
       "        ...,\n",
       "        [   0.,    0.,    0.],\n",
       "        [   0.,    0.,    0.],\n",
       "        [ -39.,  -51.,  -66.]],\n",
       "\n",
       "       [[  39.,   51.,   66.],\n",
       "        [   0.,    0.,    0.],\n",
       "        [   0.,    0.,    0.],\n",
       "        ...,\n",
       "        [   0.,    0.,    0.],\n",
       "        [   0.,    0.,    0.],\n",
       "        [ -39.,  -51.,  -66.]],\n",
       "\n",
       "       [[  26.,   34.,   44.],\n",
       "        [   0.,    0.,    0.],\n",
       "        [   0.,    0.,    0.],\n",
       "        ...,\n",
       "        [   0.,    0.,    0.],\n",
       "        [   0.,    0.,    0.],\n",
       "        [ -26.,  -34.,  -44.]]], dtype=float32)>"
      ]
     },
     "execution_count": 9,
     "metadata": {},
     "output_type": "execute_result"
    }
   ],
   "source": [
    "convolved_image = apply_convolution(image_tensor, kernel)\n",
    "\n",
    "convolved_image"
   ]
  },
  {
   "cell_type": "code",
   "execution_count": 10,
   "metadata": {},
   "outputs": [],
   "source": [
    "# 4. Сохранение результата\n",
    "def save_image(tensor, size, file_path):\n",
    "    tensor = tf.clip_by_value(tensor, 0, 255)  # Обрезка значений в диапазон [0, 255]\n",
    "    image_array = tensor.numpy().astype(np.uint8)  # Преобразование в uint8\n",
    "    image = Image.fromarray(image_array)\n",
    "    image.save(file_path)"
   ]
  },
  {
   "cell_type": "code",
   "execution_count": 11,
   "metadata": {},
   "outputs": [],
   "source": [
    "# 4. Сохранение результата с нормированием\n",
    "def save_image_normalized(tensor, file_path):\n",
    "    # Преобразование тензора в numpy-массив для обработки\n",
    "    tensor = tensor.numpy()\n",
    "    min_val = np.min(tensor)  # Минимальное значение\n",
    "    max_val = np.max(tensor)  # Максимальное значение\n",
    "    \n",
    "    # Нормирование в диапазон [0, 255]\n",
    "    if max_val > min_val:  # Чтобы избежать деления на 0\n",
    "        tensor = (tensor - min_val) / (max_val - min_val) * 255\n",
    "    else:\n",
    "        tensor = np.zeros_like(tensor)  # Если min == max, делаем однородное изображение\n",
    "    \n",
    "    # Преобразование в uint8\n",
    "    tensor = tensor.astype(np.uint8)\n",
    "    \n",
    "    # Сохранение как изображения\n",
    "    image = Image.fromarray(tensor)\n",
    "    image.save(file_path)\n"
   ]
  },
  {
   "cell_type": "code",
   "execution_count": 12,
   "metadata": {},
   "outputs": [],
   "source": [
    "output_file = \"img-result.jpg\"\n",
    "output_norm_file = \"img-result-norm.jpg\""
   ]
  },
  {
   "cell_type": "code",
   "execution_count": 13,
   "metadata": {},
   "outputs": [],
   "source": [
    "save_image(convolved_image, size, output_file)\n",
    "save_image_normalized(convolved_image, output_norm_file)"
   ]
  },
  {
   "cell_type": "code",
   "execution_count": 14,
   "metadata": {},
   "outputs": [],
   "source": [
    "input_image = Image.open(input_file)\n",
    "output_image = Image.open(output_file)\n",
    "output_normed_image = Image.open(output_norm_file)"
   ]
  },
  {
   "cell_type": "code",
   "execution_count": 15,
   "metadata": {},
   "outputs": [
    {
     "data": {
      "image/png": "[encoded data removed]",
      "text/plain": [
       "<Figure size 1000x500 with 3 Axes>"
      ]
     },
     "metadata": {},
     "output_type": "display_data"
    }
   ],
   "source": [
    "plt.figure(figsize=(10, 5))\n",
    "plt.subplot(1, 3, 1)\n",
    "plt.title(\"Input Image\")\n",
    "plt.imshow(input_image)\n",
    "plt.axis(\"off\")\n",
    "\n",
    "plt.subplot(1, 3, 2)\n",
    "plt.title(\"Output Image\")\n",
    "plt.imshow(output_image)\n",
    "plt.axis(\"off\")\n",
    "\n",
    "plt.subplot(1, 3, 3)\n",
    "plt.title(\"Output Image normed\")\n",
    "plt.imshow(output_normed_image)\n",
    "plt.axis(\"off\")\n",
    "\n",
    "plt.show()"
   ]
  },
  {
   "cell_type": "code",
   "execution_count": 17,
   "metadata": {},
   "outputs": [
    {
     "data": {
      "text/plain": [
       "<tf.Tensor: shape=(662, 1067, 3), dtype=float32, numpy=\n",
       "array([[[113., 119., 137.],\n",
       "        [-43., -43., -41.],\n",
       "        [  0.,   0.,   0.],\n",
       "        ...,\n",
       "        [  0.,   0.,   0.],\n",
       "        [  0.,   0.,   0.],\n",
       "        [  0.,   0.,   0.]],\n",
       "\n",
       "       [[148., 156., 185.],\n",
       "        [-43., -42., -41.],\n",
       "        [  0.,   0.,   0.],\n",
       "        ...,\n",
       "        [  0.,   0.,   0.],\n",
       "        [  0.,   0.,   0.],\n",
       "        [  0.,   0.,   0.]],\n",
       "\n",
       "       [[115., 124., 154.],\n",
       "        [-10., -10., -10.],\n",
       "        [  0.,   0.,   0.],\n",
       "        ...,\n",
       "        [  0.,   0.,   0.],\n",
       "        [  0.,   0.,   0.],\n",
       "        [  0.,   0.,   0.]],\n",
       "\n",
       "       ...,\n",
       "\n",
       "       [[ 39.,  51.,  66.],\n",
       "        [  0.,   0.,   0.],\n",
       "        [  0.,   0.,   0.],\n",
       "        ...,\n",
       "        [  0.,   0.,   0.],\n",
       "        [  0.,   0.,   0.],\n",
       "        [  0.,   0.,   0.]],\n",
       "\n",
       "       [[ 39.,  51.,  66.],\n",
       "        [  0.,   0.,   0.],\n",
       "        [  0.,   0.,   0.],\n",
       "        ...,\n",
       "        [  0.,   0.,   0.],\n",
       "        [  0.,   0.,   0.],\n",
       "        [  0.,   0.,   0.]],\n",
       "\n",
       "       [[ 26.,  34.,  44.],\n",
       "        [  0.,   0.,   0.],\n",
       "        [  0.,   0.,   0.],\n",
       "        ...,\n",
       "        [  0.,   0.,   0.],\n",
       "        [  0.,   0.,   0.],\n",
       "        [  0.,   0.,   0.]]], dtype=float32)>"
      ]
     },
     "execution_count": 17,
     "metadata": {},
     "output_type": "execute_result"
    }
   ],
   "source": [
    "# подвыборка\n",
    "\n",
    "subsampled_img = convolved_image[::2, ::2]\n",
    "\n",
    "subsampled_img"
   ]
  }
 ],
 "metadata": {
  "kernelspec": {
   "display_name": "Python 3",
   "language": "python",
   "name": "python3"
  },
  "language_info": {
   "codemirror_mode": {
    "name": "ipython",
    "version": 3
   },
   "file_extension": ".py",
   "mimetype": "text/x-python",
   "name": "python",
   "nbconvert_exporter": "python",
   "pygments_lexer": "ipython3",
   "version": "3.12.1"
  }
 },
 "nbformat": 4,
 "nbformat_minor": 2
}
