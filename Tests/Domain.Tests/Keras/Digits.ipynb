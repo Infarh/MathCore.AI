{
  "nbformat": 4,
  "nbformat_minor": 0,
  "metadata": {
    "colab": {
      "provenance": []
    },
    "kernelspec": {
      "name": "python3",
      "display_name": "Python 3"
    },
    "language_info": {
      "name": "python"
    }
  },
  "cells": [
    {
      "cell_type": "code",
      "execution_count": null,
      "metadata": {
        "id": "7e_2CqmEOXLi"
      },
      "outputs": [],
      "source": [
        "%%capture\n",
        "%pip install tensorflow"
      ]
    },
    {
      "cell_type": "code",
      "source": [
        "import numpy as np\n",
        "\n",
        "from tensorflow.keras.datasets import mnist\n"
      ],
      "metadata": {
        "id": "8bRYAy5ZPlcv"
      },
      "execution_count": null,
      "outputs": []
    },
    {
      "cell_type": "code",
      "source": [
        "# Функция визуализации обущающей выборки\n",
        "import matplotlib.pyplot as plt\n",
        "\n",
        "def visualise_images(x_data, y_data, num_images = 10):\n",
        "  plt.figure(figsize=(12, 6))\n",
        "\n",
        "  for i in range(num_images):\n",
        "    plt.subplot(1, num_images, i + 1)\n",
        "    plt.imshow(x_data[i].reshape(28, 28), cmap='gray')\n",
        "    plt.title(f'Класс: {y_data[i]}')\n",
        "    plt.axis('off')\n",
        "\n",
        "  plt.tight_layout()\n",
        "  plt.show()"
      ],
      "metadata": {
        "id": "ps1JTZAaQIi3"
      },
      "execution_count": null,
      "outputs": []
    },
    {
      "cell_type": "code",
      "source": [
        "# Обучающая выборка\n",
        "(x_train, y_train), (x_test, y_test) = mnist.load_data()"
      ],
      "metadata": {
        "id": "lqdB7WsSR0oH"
      },
      "execution_count": null,
      "outputs": []
    },
    {
      "cell_type": "code",
      "source": [
        "visualise_images(x_train, y_train)"
      ],
      "metadata": {
        "colab": {
          "base_uri": "https://localhost:8080/",
          "height": 121
        },
        "id": "Kcv6lBlqSFX2",
        "outputId": "ff48eb84-ca40-4b45-926b-8865bd9fb097"
      },
      "execution_count": null,
      "outputs": [
        {
          "output_type": "display_data",
          "data": {
            "text/plain": [
              "<Figure size 1200x600 with 10 Axes>"
            ],
            "image/png": "[encoded data removed]"
          },
          "metadata": {}
        }
      ]
    },
    {
      "cell_type": "code",
      "source": [
        "from tensorflow.keras.models import Sequential\n",
        "from tensorflow.keras.layers import Conv2D, MaxPooling2D, Flatten, Dense, Dropout\n",
        "from tensorflow.keras.utils import to_categorical"
      ],
      "metadata": {
        "id": "aO-07E_hTGrH"
      },
      "execution_count": null,
      "outputs": []
    },
    {
      "cell_type": "code",
      "source": [
        "# Нормализация входных данных\n",
        "\n",
        "x_train = x_train.reshape(x_train.shape[0], 28, 28, 1).astype('float32') / 256\n",
        "x_test = x_test.reshape(x_test.shape[0], 28, 28, 1).astype('float32') / 256"
      ],
      "metadata": {
        "collapsed": true,
        "id": "kgAcCqLZT2T_"
      },
      "execution_count": null,
      "outputs": []
    },
    {
      "cell_type": "code",
      "source": [
        "# Преобразование тестовых денных классов\n",
        "\n",
        "y_train = to_categorical(y_train, 10)\n",
        "y_test = to_categorical(y_test, 10)\n"
      ],
      "metadata": {
        "id": "Up_AycPiUo3I"
      },
      "execution_count": null,
      "outputs": []
    },
    {
      "cell_type": "markdown",
      "source": [
        "Модель свёрточной нейронной сети"
      ],
      "metadata": {
        "id": "bbRgX4L6VktH"
      }
    },
    {
      "cell_type": "code",
      "source": [
        "model = Sequential()"
      ],
      "metadata": {
        "id": "FbTJWt6kVoCX"
      },
      "execution_count": null,
      "outputs": []
    },
    {
      "cell_type": "code",
      "source": [
        "model.add(Conv2D(32, kernel_size=(3,3), activation='relu', input_shape=(28, 28, 1)))\n",
        "model.add(MaxPooling2D(pool_size=(2, 2)))\n",
        "\n",
        "model.add(Conv2D(64, kernel_size=(3,3), activation='relu'))\n",
        "model.add(MaxPooling2D(pool_size=(2, 2)))\n",
        "\n",
        "model.add(Flatten())\n",
        "\n",
        "model.add(Dense(128, activation='relu'))\n",
        "\n",
        "model.add(Dropout(0.5))\n",
        "\n",
        "model.add(Dense(10, activation='softmax'))"
      ],
      "metadata": {
        "colab": {
          "base_uri": "https://localhost:8080/"
        },
        "id": "qTw6sEujVuLG",
        "outputId": "5f36d17b-c571-4be1-d43c-48efbd5fe419"
      },
      "execution_count": null,
      "outputs": [
        {
          "output_type": "stream",
          "name": "stderr",
          "text": [
            "/usr/local/lib/python3.10/dist-packages/keras/src/layers/convolutional/base_conv.py:107: UserWarning: Do not pass an `input_shape`/`input_dim` argument to a layer. When using Sequential models, prefer using an `Input(shape)` object as the first layer in the model instead.\n",
            "  super().__init__(activity_regularizer=activity_regularizer, **kwargs)\n"
          ]
        }
      ]
    },
    {
      "cell_type": "code",
      "source": [
        "model.compile(\n",
        "    optimizer='adam',\n",
        "    loss='categorical_crossentropy',\n",
        "    metrics=['accuracy']\n",
        ")"
      ],
      "metadata": {
        "id": "-WIYpCNQWMhY"
      },
      "execution_count": null,
      "outputs": []
    },
    {
      "cell_type": "code",
      "source": [
        "model.fit(x_train, y_train, batch_size=128, epochs=10, validation_split=0.2)"
      ],
      "metadata": {
        "colab": {
          "base_uri": "https://localhost:8080/"
        },
        "id": "a3uN9pAGXpFX",
        "outputId": "d724f0e4-55c3-4bdb-bfc9-e675663b2780"
      },
      "execution_count": null,
      "outputs": [
        {
          "output_type": "stream",
          "name": "stdout",
          "text": [
            "Epoch 1/10\n",
            "\u001b[1m375/375\u001b[0m \u001b[32m━━━━━━━━━━━━━━━━━━━━\u001b[0m\u001b[37m\u001b[0m \u001b[1m134s\u001b[0m 351ms/step - accuracy: 0.7814 - loss: 0.6814 - val_accuracy: 0.9773 - val_loss: 0.0732\n",
            "Epoch 2/10\n",
            "\u001b[1m375/375\u001b[0m \u001b[32m━━━━━━━━━━━━━━━━━━━━\u001b[0m\u001b[37m\u001b[0m \u001b[1m128s\u001b[0m 342ms/step - accuracy: 0.9687 - loss: 0.1068 - val_accuracy: 0.9851 - val_loss: 0.0501\n",
            "Epoch 3/10\n",
            "\u001b[1m375/375\u001b[0m \u001b[32m━━━━━━━━━━━━━━━━━━━━\u001b[0m\u001b[37m\u001b[0m \u001b[1m138s\u001b[0m 333ms/step - accuracy: 0.9803 - loss: 0.0671 - val_accuracy: 0.9886 - val_loss: 0.0397\n",
            "Epoch 4/10\n",
            "\u001b[1m375/375\u001b[0m \u001b[32m━━━━━━━━━━━━━━━━━━━━\u001b[0m\u001b[37m\u001b[0m \u001b[1m138s\u001b[0m 323ms/step - accuracy: 0.9846 - loss: 0.0542 - val_accuracy: 0.9887 - val_loss: 0.0404\n",
            "Epoch 5/10\n",
            "\u001b[1m375/375\u001b[0m \u001b[32m━━━━━━━━━━━━━━━━━━━━\u001b[0m\u001b[37m\u001b[0m \u001b[1m148s\u001b[0m 338ms/step - accuracy: 0.9869 - loss: 0.0445 - val_accuracy: 0.9865 - val_loss: 0.0442\n",
            "Epoch 6/10\n",
            "\u001b[1m375/375\u001b[0m \u001b[32m━━━━━━━━━━━━━━━━━━━━\u001b[0m\u001b[37m\u001b[0m \u001b[1m136s\u001b[0m 323ms/step - accuracy: 0.9886 - loss: 0.0401 - val_accuracy: 0.9912 - val_loss: 0.0339\n",
            "Epoch 7/10\n",
            "\u001b[1m375/375\u001b[0m \u001b[32m━━━━━━━━━━━━━━━━━━━━\u001b[0m\u001b[37m\u001b[0m \u001b[1m121s\u001b[0m 322ms/step - accuracy: 0.9897 - loss: 0.0327 - val_accuracy: 0.9911 - val_loss: 0.0361\n",
            "Epoch 8/10\n",
            "\u001b[1m375/375\u001b[0m \u001b[32m━━━━━━━━━━━━━━━━━━━━\u001b[0m\u001b[37m\u001b[0m \u001b[1m144s\u001b[0m 326ms/step - accuracy: 0.9901 - loss: 0.0278 - val_accuracy: 0.9903 - val_loss: 0.0355\n",
            "Epoch 9/10\n",
            "\u001b[1m375/375\u001b[0m \u001b[32m━━━━━━━━━━━━━━━━━━━━\u001b[0m\u001b[37m\u001b[0m \u001b[1m142s\u001b[0m 328ms/step - accuracy: 0.9914 - loss: 0.0275 - val_accuracy: 0.9904 - val_loss: 0.0377\n",
            "Epoch 10/10\n",
            "\u001b[1m375/375\u001b[0m \u001b[32m━━━━━━━━━━━━━━━━━━━━\u001b[0m\u001b[37m\u001b[0m \u001b[1m153s\u001b[0m 356ms/step - accuracy: 0.9914 - loss: 0.0277 - val_accuracy: 0.9914 - val_loss: 0.0331\n"
          ]
        },
        {
          "output_type": "execute_result",
          "data": {
            "text/plain": [
              "<keras.src.callbacks.history.History at 0x7992db487160>"
            ]
          },
          "metadata": {},
          "execution_count": 14
        }
      ]
    },
    {
      "cell_type": "code",
      "source": [
        "test_loss, test_accuracy = model.evaluate(x_test, y_test)\n",
        "print(f'Точность на тестовых данных {test_accuracy:.2%}')"
      ],
      "metadata": {
        "colab": {
          "base_uri": "https://localhost:8080/"
        },
        "id": "O2Oz9haFYSdf",
        "outputId": "6460187b-318b-4ada-841f-8ff9af7267b9"
      },
      "execution_count": null,
      "outputs": [
        {
          "output_type": "stream",
          "name": "stdout",
          "text": [
            "\u001b[1m313/313\u001b[0m \u001b[32m━━━━━━━━━━━━━━━━━━━━\u001b[0m\u001b[37m\u001b[0m \u001b[1m7s\u001b[0m 22ms/step - accuracy: 0.9906 - loss: 0.0316\n",
            "Точность на тестовых данных 99.22%\n"
          ]
        }
      ]
    },
    {
      "cell_type": "code",
      "source": [
        "def predict(model, img):\n",
        "  input_img = np.expand_dims(img, axis=0)\n",
        "\n",
        "  prediction = model.predict(input_img, verbose=0)\n",
        "  predict_label = np.argmax(prediction)\n",
        "  confidence = np.max(prediction)\n",
        "\n",
        "  plt.imshow(input_img.reshape(28, 28), cmap='gray')\n",
        "  plt.title(f'Класс: {predict_label} точность: {confidence:.2%}')\n",
        "  plt.axis('off')\n",
        "  plt.show()"
      ],
      "metadata": {
        "id": "CI6vyRrfc70M"
      },
      "execution_count": null,
      "outputs": []
    },
    {
      "cell_type": "code",
      "source": [
        " predict(model, x_test[7])"
      ],
      "metadata": {
        "colab": {
          "base_uri": "https://localhost:8080/",
          "height": 428
        },
        "id": "W_adocXTeMpH",
        "outputId": "f435f49b-e54b-416c-cf9b-36d93a4fd20f"
      },
      "execution_count": null,
      "outputs": [
        {
          "output_type": "display_data",
          "data": {
            "text/plain": [
              "<Figure size 640x480 with 1 Axes>"
            ],
            "image/png": "[encoded data removed]"
          },
          "metadata": {}
        }
      ]
    },
    {
      "cell_type": "code",
      "source": [
        "# обработка собственных изображений\n",
        "\n",
        "from tensorflow.keras.preprocessing.image import load_img, img_to_array\n",
        "\n",
        "# Предобработк изображения\n",
        "def PreProcessingImage(path):\n",
        "  img = load_img(path, color_mode='grayscale', target_size=(28,28))\n",
        "  img_array = img_to_array(img)\n",
        "\n",
        "  img_array = 255 - img_array # инверсия цветов - фон чёрный\n",
        "  img_array = img_array.astype('float32') / 255 # нормировка\n",
        "\n",
        "  img_array = np.expand_dims(img_array, axis=0)\n",
        "  return img_array\n",
        "\n",
        "def CustomPredict(model, path):\n",
        "  img = PreProcessingImage(path)\n",
        "  prediction = model.predict(img, verbose=0)\n",
        "\n",
        "  predict_class = np.argmax(prediction)\n",
        "  confidence = np.max(prediction)\n",
        "\n",
        "  return predict_class, confidence\n"
      ],
      "metadata": {
        "id": "mSXSH1kDe4iw"
      },
      "execution_count": null,
      "outputs": []
    },
    {
      "cell_type": "code",
      "source": [
        "img_path = 'test.png'\n",
        "digit, conf = CustomPredict(model, img_path)\n",
        "print(f\"В файле {img_path} изображена цифра {digit} с вероятностью {conf}\")"
      ],
      "metadata": {
        "colab": {
          "base_uri": "https://localhost:8080/"
        },
        "id": "xsJM--uPhMmP",
        "outputId": "c00ad674-5b14-42dc-f720-6ed3bf3daaad"
      },
      "execution_count": null,
      "outputs": [
        {
          "output_type": "stream",
          "name": "stdout",
          "text": [
            "В файле test.png изображена цифра 4 с вероятностью 0.9807054400444031\n"
          ]
        }
      ]
    }
  ]
}