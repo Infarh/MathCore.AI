{
 "cells": [
  {
   "cell_type": "code",
   "execution_count": 1,
   "metadata": {},
   "outputs": [],
   "source": [
    "import numpy as np"
   ]
  },
  {
   "cell_type": "code",
   "execution_count": 2,
   "metadata": {},
   "outputs": [],
   "source": [
    "class Tensor:\n",
    "    def __init__(self, *dims):\n",
    "        \"\"\"Инициализация тензора с заданными размерами\"\"\"\n",
    "        self.shape = dims\n",
    "        self.data = np.zeros(dims)  # Инициализируем тензор нулями\n",
    "\n",
    "    def __repr__(self):\n",
    "        return f\"Tensor{self.shape}({self.data})\"\n",
    "\n",
    "    def __getitem__(self, indices):\n",
    "        \"\"\"Доступ к элементам тензора через индексы\"\"\"\n",
    "        return self.data[indices]\n",
    "\n",
    "    def __setitem__(self, indices, value):\n",
    "        \"\"\"Изменение элемента тензора\"\"\"\n",
    "        self.data[indices] = value\n",
    "\n",
    "    def __add__(self, other):\n",
    "        \"\"\"Сложение тензоров\"\"\"\n",
    "        if self.shape != other.shape:\n",
    "            raise ValueError(\"Размерности тензоров не совпадают\")\n",
    "        return Tensor(*self.shape)._set_data(self.data + other.data)\n",
    "\n",
    "    def __sub__(self, other):\n",
    "        \"\"\"Вычитание тензоров\"\"\"\n",
    "        if self.shape != other.shape:\n",
    "            raise ValueError(\"Размерности тензоров не совпадают\")\n",
    "        return Tensor(*self.shape)._set_data(self.data - other.data)\n",
    "\n",
    "    def __mul__(self, other):\n",
    "        \"\"\"Умножение тензоров или умножение на скаляр\"\"\"\n",
    "        if isinstance(other, Tensor):\n",
    "            if self.shape != other.shape:\n",
    "                raise ValueError(\"Размерности тензоров не совпадают\")\n",
    "            return Tensor(*self.shape)._set_data(self.data * other.data)\n",
    "        else:\n",
    "            return Tensor(*self.shape)._set_data(self.data * other)  # умножение на скаляр\n",
    "\n",
    "    def __rmul__(self, other):\n",
    "        \"\"\"Обработка умножения на скаляр с другой стороны\"\"\"\n",
    "        return self.__mul__(other)\n",
    "\n",
    "    def _set_data(self, data):\n",
    "        \"\"\"Установка данных в тензор\"\"\"\n",
    "        new_tensor = Tensor(*self.shape)\n",
    "        new_tensor.data = data\n",
    "        return new_tensor\n",
    "\n",
    "    def transpose(self):\n",
    "        \"\"\"Транспонирование тензора (перестановка осей)\"\"\"\n",
    "        return Tensor(*self.shape[::-1])._set_data(self.data.T)"
   ]
  },
  {
   "cell_type": "code",
   "execution_count": 3,
   "metadata": {},
   "outputs": [],
   "source": [
    "tensor1 = Tensor(3, 3)\n",
    "tensor2 = Tensor(3, 3)"
   ]
  },
  {
   "cell_type": "code",
   "execution_count": 4,
   "metadata": {},
   "outputs": [],
   "source": [
    "tensor1[0, 0] = 1\n",
    "tensor2[0, 0] = 2"
   ]
  },
  {
   "cell_type": "code",
   "execution_count": 5,
   "metadata": {},
   "outputs": [
    {
     "name": "stdout",
     "output_type": "stream",
     "text": [
      "Tensor1: Tensor(3, 3)([[1. 0. 0.]\n",
      " [0. 0. 0.]\n",
      " [0. 0. 0.]])\n",
      "Tensor2: Tensor(3, 3)([[2. 0. 0.]\n",
      " [0. 0. 0.]\n",
      " [0. 0. 0.]])\n"
     ]
    }
   ],
   "source": [
    "print(\"Tensor1:\", tensor1)\n",
    "print(\"Tensor2:\", tensor2)"
   ]
  },
  {
   "cell_type": "code",
   "execution_count": 6,
   "metadata": {},
   "outputs": [
    {
     "name": "stdout",
     "output_type": "stream",
     "text": [
      "Tensor1 + Tensor2: Tensor(3, 3)([[3. 0. 0.]\n",
      " [0. 0. 0.]\n",
      " [0. 0. 0.]])\n"
     ]
    }
   ],
   "source": [
    "tensor3 = tensor1 + tensor2\n",
    "print(\"Tensor1 + Tensor2:\", tensor3)"
   ]
  },
  {
   "cell_type": "code",
   "execution_count": 7,
   "metadata": {},
   "outputs": [
    {
     "name": "stdout",
     "output_type": "stream",
     "text": [
      "Tensor1 * 2: Tensor(3, 3)([[2. 0. 0.]\n",
      " [0. 0. 0.]\n",
      " [0. 0. 0.]])\n"
     ]
    }
   ],
   "source": [
    "tensor4 = tensor1 * 2\n",
    "print(\"Tensor1 * 2:\", tensor4)"
   ]
  },
  {
   "cell_type": "code",
   "execution_count": 8,
   "metadata": {},
   "outputs": [
    {
     "name": "stdout",
     "output_type": "stream",
     "text": [
      "Transpose of Tensor1: Tensor(3, 3)([[1. 0. 0.]\n",
      " [0. 0. 0.]\n",
      " [0. 0. 0.]])\n"
     ]
    }
   ],
   "source": [
    "tensor5 = tensor1.transpose()\n",
    "print(\"Transpose of Tensor1:\", tensor5)"
   ]
  },
  {
   "cell_type": "code",
   "execution_count": 10,
   "metadata": {},
   "outputs": [],
   "source": [
    "tensor = Tensor(2, 3, 4)\n",
    "\n",
    "tensor[0, 0, 0] = 1\n",
    "tensor[0, 1, 2] = 5\n",
    "tensor[1, 2, 3] = 9"
   ]
  },
  {
   "cell_type": "code",
   "execution_count": 11,
   "metadata": {},
   "outputs": [
    {
     "name": "stdout",
     "output_type": "stream",
     "text": [
      "Тензор после задания значений:\n",
      "Tensor(2, 3, 4)([[[1. 0. 0. 0.]\n",
      "  [0. 0. 5. 0.]\n",
      "  [0. 0. 0. 0.]]\n",
      "\n",
      " [[0. 0. 0. 0.]\n",
      "  [0. 0. 0. 0.]\n",
      "  [0. 0. 0. 9.]]])\n"
     ]
    }
   ],
   "source": [
    "print(\"Тензор после задания значений:\")\n",
    "print(tensor)"
   ]
  },
  {
   "cell_type": "code",
   "execution_count": 12,
   "metadata": {},
   "outputs": [
    {
     "name": "stdout",
     "output_type": "stream",
     "text": [
      "Значение элемента tensor[0, 0, 0]: 1.0\n",
      "Значение элемента tensor[0, 1, 2]: 5.0\n",
      "Значение элемента tensor[1, 2, 3]: 9.0\n"
     ]
    }
   ],
   "source": [
    "print(\"Значение элемента tensor[0, 0, 0]:\", tensor[0, 0, 0])  # 1\n",
    "print(\"Значение элемента tensor[0, 1, 2]:\", tensor[0, 1, 2])  # 5\n",
    "print(\"Значение элемента tensor[1, 2, 3]:\", tensor[1, 2, 3])  # 9"
   ]
  },
  {
   "cell_type": "code",
   "execution_count": 13,
   "metadata": {},
   "outputs": [
    {
     "name": "stdout",
     "output_type": "stream",
     "text": [
      "Срез tensor[0, :, :]:\n",
      "[[1. 0. 0. 0.]\n",
      " [0. 0. 5. 0.]\n",
      " [0. 0. 0. 0.]]\n",
      "Срез tensor[:, 1, :]:\n",
      "[[0. 0. 5. 0.]\n",
      " [0. 0. 0. 0.]]\n"
     ]
    }
   ],
   "source": [
    "print(\"Срез tensor[0, :, :]:\")\n",
    "print(tensor[0, :, :])  # Все элементы на первом уровне\n",
    "\n",
    "print(\"Срез tensor[:, 1, :]:\")\n",
    "print(tensor[:, 1, :])  # Все элементы на второй строке по всем уровням"
   ]
  }
 ],
 "metadata": {
  "kernelspec": {
   "display_name": "Python 3",
   "language": "python",
   "name": "python3"
  },
  "language_info": {
   "codemirror_mode": {
    "name": "ipython",
    "version": 3
   },
   "file_extension": ".py",
   "mimetype": "text/x-python",
   "name": "python",
   "nbconvert_exporter": "python",
   "pygments_lexer": "ipython3",
   "version": "3.12.1"
  }
 },
 "nbformat": 4,
 "nbformat_minor": 2
}
