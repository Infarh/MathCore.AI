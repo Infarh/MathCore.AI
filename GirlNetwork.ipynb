{
 "cells": [
  {
   "cell_type": "markdown",
   "metadata": {},
   "source": [
    "# Задача обучение девочи\n",
    "\n",
    "Нейронная сеть, решающая задачу оценки парня по трём критериям: наличие квартиры; привлекательность; любовь тяжёлого рока (негативный критерий).\n",
    "\n",
    "Нейронная сеть должна выдавать результат в виде численных значений в интервале [0, 1], где 0 - отризательное отношение к парню; 1 - позитивное отношение."
   ]
  },
  {
   "cell_type": "code",
   "execution_count": 2,
   "metadata": {},
   "outputs": [],
   "source": [
    "import numpy as np\n",
    "import matplotlib.pyplot as plt"
   ]
  },
  {
   "cell_type": "markdown",
   "metadata": {},
   "source": [
    "## Функция генерации топологии сети"
   ]
  },
  {
   "cell_type": "code",
   "execution_count": 16,
   "metadata": {},
   "outputs": [
    {
     "data": {
      "text/plain": [
       "[(array([[ 0.49671415, -0.1382643 ,  0.64768854],\n",
       "         [ 1.52302986, -0.23415337, -0.23413696]]),\n",
       "  array([1.57921282, 0.76743473])),\n",
       " (array([[-0.46947439,  0.54256004]]), array([-0.46341769]))]"
      ]
     },
     "execution_count": 16,
     "metadata": {},
     "output_type": "execute_result"
    }
   ],
   "source": [
    "def Topology(Inputs: int, layers: list[int]):\n",
    "    '''\n",
    "    Функция генерации топологии нейронной сети\n",
    "\n",
    "    Parameters\n",
    "    ----------\n",
    "    Inputs: int: \n",
    "        число входов сети\n",
    "    layers: list[int]: \n",
    "        список размеров слоёв (число нейронов в каждом)\n",
    "\n",
    "    Returns\n",
    "    -------\n",
    "        Функция возвращает список структуры каждого слоя, содержащий кортежи: (w, o). \n",
    "        Где w - матрица передачи слоя, o - вектор смещения\n",
    "    '''\n",
    "    layersCount = len(layers)\n",
    "    \n",
    "    M = [Inputs] + layers\n",
    "\n",
    "    np.random.seed(42)\n",
    "\n",
    "    T = []\n",
    "    for i in range(0, layersCount):\n",
    "            w = np.random.normal(0, 1, size=(M[i+1], M[i]))\n",
    "            o = np.random.normal(0, 1, size=(M[i+1]))\n",
    "            T.append((w, o))\n",
    "\n",
    "    return T\n",
    "\n",
    "T = Topology(3, [2, 1])\n",
    "T"
   ]
  }
 ],
 "metadata": {
  "kernelspec": {
   "display_name": "Python 3",
   "language": "python",
   "name": "python3"
  },
  "language_info": {
   "codemirror_mode": {
    "name": "ipython",
    "version": 3
   },
   "file_extension": ".py",
   "mimetype": "text/x-python",
   "name": "python",
   "nbconvert_exporter": "python",
   "pygments_lexer": "ipython3",
   "version": "3.12.1"
  }
 },
 "nbformat": 4,
 "nbformat_minor": 2
}
